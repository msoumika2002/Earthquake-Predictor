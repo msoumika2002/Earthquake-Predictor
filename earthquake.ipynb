{
 "cells": [
  {
   "cell_type": "code",
   "execution_count": 342,
   "id": "850f0143",
   "metadata": {},
   "outputs": [],
   "source": [
    "#importing libraries\n",
    "import numpy as np\n",
    "import pandas as pd\n",
    "import matplotlib.pyplot as plt\n",
    "import seaborn as sns\n",
    "%matplotlib inline\n",
    "import warnings\n",
    "warnings.filterwarnings('ignore')\n"
   ]
  },
  {
   "cell_type": "code",
   "execution_count": 343,
   "id": "267dadd6",
   "metadata": {},
   "outputs": [],
   "source": [
    "#Loading Dataset\n",
    "df = pd.read_csv(\"earthquakes.csv\")"
   ]
  },
  {
   "cell_type": "code",
   "execution_count": 344,
   "id": "13e2fc80",
   "metadata": {},
   "outputs": [
    {
     "data": {
      "text/html": [
       "<div>\n",
       "<style scoped>\n",
       "    .dataframe tbody tr th:only-of-type {\n",
       "        vertical-align: middle;\n",
       "    }\n",
       "\n",
       "    .dataframe tbody tr th {\n",
       "        vertical-align: top;\n",
       "    }\n",
       "\n",
       "    .dataframe thead th {\n",
       "        text-align: right;\n",
       "    }\n",
       "</style>\n",
       "<table border=\"1\" class=\"dataframe\">\n",
       "  <thead>\n",
       "    <tr style=\"text-align: right;\">\n",
       "      <th></th>\n",
       "      <th>id</th>\n",
       "      <th>impact.gap</th>\n",
       "      <th>impact.magnitude</th>\n",
       "      <th>impact.significance</th>\n",
       "      <th>location.depth</th>\n",
       "      <th>location.distance</th>\n",
       "      <th>location.full</th>\n",
       "      <th>location.latitude</th>\n",
       "      <th>location.longitude</th>\n",
       "      <th>location.name</th>\n",
       "      <th>time.day</th>\n",
       "      <th>time.epoch</th>\n",
       "      <th>time.full</th>\n",
       "      <th>time.hour</th>\n",
       "      <th>time.minute</th>\n",
       "      <th>time.month</th>\n",
       "      <th>time.second</th>\n",
       "      <th>time.year</th>\n",
       "    </tr>\n",
       "  </thead>\n",
       "  <tbody>\n",
       "    <tr>\n",
       "      <th>0</th>\n",
       "      <td>nc72666881</td>\n",
       "      <td>122.00</td>\n",
       "      <td>1.43</td>\n",
       "      <td>31</td>\n",
       "      <td>15.12</td>\n",
       "      <td>0.10340</td>\n",
       "      <td>13km E of Livermore, California</td>\n",
       "      <td>37.672333</td>\n",
       "      <td>-121.619000</td>\n",
       "      <td>California</td>\n",
       "      <td>27</td>\n",
       "      <td>1469593183550</td>\n",
       "      <td>2016-07-27 00:19:43</td>\n",
       "      <td>0</td>\n",
       "      <td>19</td>\n",
       "      <td>7</td>\n",
       "      <td>43</td>\n",
       "      <td>2016</td>\n",
       "    </tr>\n",
       "    <tr>\n",
       "      <th>1</th>\n",
       "      <td>us20006i0y</td>\n",
       "      <td>30.00</td>\n",
       "      <td>4.90</td>\n",
       "      <td>371</td>\n",
       "      <td>97.07</td>\n",
       "      <td>1.43900</td>\n",
       "      <td>58km WNW of Pakokku, Burma</td>\n",
       "      <td>21.514600</td>\n",
       "      <td>94.572100</td>\n",
       "      <td>Burma</td>\n",
       "      <td>27</td>\n",
       "      <td>1469593228220</td>\n",
       "      <td>2016-07-27 00:20:28</td>\n",
       "      <td>0</td>\n",
       "      <td>20</td>\n",
       "      <td>7</td>\n",
       "      <td>28</td>\n",
       "      <td>2016</td>\n",
       "    </tr>\n",
       "    <tr>\n",
       "      <th>2</th>\n",
       "      <td>nc72666891</td>\n",
       "      <td>249.00</td>\n",
       "      <td>0.06</td>\n",
       "      <td>0</td>\n",
       "      <td>4.39</td>\n",
       "      <td>0.02743</td>\n",
       "      <td>12km SE of Mammoth Lakes, California</td>\n",
       "      <td>37.576500</td>\n",
       "      <td>-118.859167</td>\n",
       "      <td>California</td>\n",
       "      <td>27</td>\n",
       "      <td>1469593897150</td>\n",
       "      <td>2016-07-27 00:31:37</td>\n",
       "      <td>0</td>\n",
       "      <td>31</td>\n",
       "      <td>7</td>\n",
       "      <td>37</td>\n",
       "      <td>2016</td>\n",
       "    </tr>\n",
       "    <tr>\n",
       "      <th>3</th>\n",
       "      <td>nc72666896</td>\n",
       "      <td>122.00</td>\n",
       "      <td>0.40</td>\n",
       "      <td>2</td>\n",
       "      <td>1.09</td>\n",
       "      <td>0.02699</td>\n",
       "      <td>6km SSW of Mammoth Lakes, California</td>\n",
       "      <td>37.595833</td>\n",
       "      <td>-118.994833</td>\n",
       "      <td>California</td>\n",
       "      <td>27</td>\n",
       "      <td>1469594144150</td>\n",
       "      <td>2016-07-27 00:35:44</td>\n",
       "      <td>0</td>\n",
       "      <td>35</td>\n",
       "      <td>7</td>\n",
       "      <td>44</td>\n",
       "      <td>2016</td>\n",
       "    </tr>\n",
       "    <tr>\n",
       "      <th>4</th>\n",
       "      <td>nn00553447</td>\n",
       "      <td>113.61</td>\n",
       "      <td>0.30</td>\n",
       "      <td>1</td>\n",
       "      <td>7.60</td>\n",
       "      <td>0.06300</td>\n",
       "      <td>16km SSE of Mogul, Nevada</td>\n",
       "      <td>39.377500</td>\n",
       "      <td>-119.845000</td>\n",
       "      <td>Nevada</td>\n",
       "      <td>27</td>\n",
       "      <td>1469594519667</td>\n",
       "      <td>2016-07-27 00:41:59</td>\n",
       "      <td>0</td>\n",
       "      <td>41</td>\n",
       "      <td>7</td>\n",
       "      <td>59</td>\n",
       "      <td>2016</td>\n",
       "    </tr>\n",
       "  </tbody>\n",
       "</table>\n",
       "</div>"
      ],
      "text/plain": [
       "           id  impact.gap  impact.magnitude  impact.significance  \\\n",
       "0  nc72666881      122.00              1.43                   31   \n",
       "1  us20006i0y       30.00              4.90                  371   \n",
       "2  nc72666891      249.00              0.06                    0   \n",
       "3  nc72666896      122.00              0.40                    2   \n",
       "4  nn00553447      113.61              0.30                    1   \n",
       "\n",
       "   location.depth  location.distance                         location.full  \\\n",
       "0           15.12            0.10340       13km E of Livermore, California   \n",
       "1           97.07            1.43900            58km WNW of Pakokku, Burma   \n",
       "2            4.39            0.02743  12km SE of Mammoth Lakes, California   \n",
       "3            1.09            0.02699  6km SSW of Mammoth Lakes, California   \n",
       "4            7.60            0.06300             16km SSE of Mogul, Nevada   \n",
       "\n",
       "   location.latitude  location.longitude location.name  time.day  \\\n",
       "0          37.672333         -121.619000    California        27   \n",
       "1          21.514600           94.572100         Burma        27   \n",
       "2          37.576500         -118.859167    California        27   \n",
       "3          37.595833         -118.994833    California        27   \n",
       "4          39.377500         -119.845000        Nevada        27   \n",
       "\n",
       "      time.epoch            time.full  time.hour  time.minute  time.month  \\\n",
       "0  1469593183550  2016-07-27 00:19:43          0           19           7   \n",
       "1  1469593228220  2016-07-27 00:20:28          0           20           7   \n",
       "2  1469593897150  2016-07-27 00:31:37          0           31           7   \n",
       "3  1469594144150  2016-07-27 00:35:44          0           35           7   \n",
       "4  1469594519667  2016-07-27 00:41:59          0           41           7   \n",
       "\n",
       "   time.second  time.year  \n",
       "0           43       2016  \n",
       "1           28       2016  \n",
       "2           37       2016  \n",
       "3           44       2016  \n",
       "4           59       2016  "
      ]
     },
     "execution_count": 344,
     "metadata": {},
     "output_type": "execute_result"
    }
   ],
   "source": [
    "df.head()"
   ]
  },
  {
   "cell_type": "code",
   "execution_count": 345,
   "id": "f9de4724",
   "metadata": {},
   "outputs": [
    {
     "data": {
      "text/plain": [
       "id                      object\n",
       "impact.gap             float64\n",
       "impact.magnitude       float64\n",
       "impact.significance      int64\n",
       "location.depth         float64\n",
       "location.distance      float64\n",
       "location.full           object\n",
       "location.latitude      float64\n",
       "location.longitude     float64\n",
       "location.name           object\n",
       "time.day                 int64\n",
       "time.epoch               int64\n",
       "time.full               object\n",
       "time.hour                int64\n",
       "time.minute              int64\n",
       "time.month               int64\n",
       "time.second              int64\n",
       "time.year                int64\n",
       "dtype: object"
      ]
     },
     "execution_count": 345,
     "metadata": {},
     "output_type": "execute_result"
    }
   ],
   "source": [
    "df.dtypes"
   ]
  },
  {
   "cell_type": "code",
   "execution_count": 346,
   "id": "452ec3cc",
   "metadata": {
    "scrolled": true
   },
   "outputs": [
    {
     "data": {
      "text/plain": [
       "id                     0\n",
       "impact.gap             0\n",
       "impact.magnitude       0\n",
       "impact.significance    0\n",
       "location.depth         0\n",
       "location.distance      0\n",
       "location.full          0\n",
       "location.latitude      0\n",
       "location.longitude     0\n",
       "location.name          0\n",
       "time.day               0\n",
       "time.epoch             0\n",
       "time.full              0\n",
       "time.hour              0\n",
       "time.minute            0\n",
       "time.month             0\n",
       "time.second            0\n",
       "time.year              0\n",
       "dtype: int64"
      ]
     },
     "execution_count": 346,
     "metadata": {},
     "output_type": "execute_result"
    }
   ],
   "source": [
    "df.isnull().sum()"
   ]
  },
  {
   "cell_type": "code",
   "execution_count": 347,
   "id": "cd6df7ea",
   "metadata": {},
   "outputs": [
    {
     "data": {
      "text/html": [
       "<div>\n",
       "<style scoped>\n",
       "    .dataframe tbody tr th:only-of-type {\n",
       "        vertical-align: middle;\n",
       "    }\n",
       "\n",
       "    .dataframe tbody tr th {\n",
       "        vertical-align: top;\n",
       "    }\n",
       "\n",
       "    .dataframe thead th {\n",
       "        text-align: right;\n",
       "    }\n",
       "</style>\n",
       "<table border=\"1\" class=\"dataframe\">\n",
       "  <thead>\n",
       "    <tr style=\"text-align: right;\">\n",
       "      <th></th>\n",
       "      <th>impact.gap</th>\n",
       "      <th>impact.magnitude</th>\n",
       "      <th>impact.significance</th>\n",
       "      <th>location.depth</th>\n",
       "      <th>location.distance</th>\n",
       "      <th>location.latitude</th>\n",
       "      <th>location.longitude</th>\n",
       "      <th>time.day</th>\n",
       "      <th>time.epoch</th>\n",
       "      <th>time.hour</th>\n",
       "      <th>time.minute</th>\n",
       "      <th>time.month</th>\n",
       "      <th>time.second</th>\n",
       "      <th>time.year</th>\n",
       "    </tr>\n",
       "  </thead>\n",
       "  <tbody>\n",
       "    <tr>\n",
       "      <th>count</th>\n",
       "      <td>8394.000000</td>\n",
       "      <td>8394.000000</td>\n",
       "      <td>8394.000000</td>\n",
       "      <td>8394.000000</td>\n",
       "      <td>8394.000000</td>\n",
       "      <td>8394.000000</td>\n",
       "      <td>8394.000000</td>\n",
       "      <td>8394.000000</td>\n",
       "      <td>8.394000e+03</td>\n",
       "      <td>8394.000000</td>\n",
       "      <td>8394.000000</td>\n",
       "      <td>8394.000000</td>\n",
       "      <td>8394.000000</td>\n",
       "      <td>8394.0</td>\n",
       "    </tr>\n",
       "    <tr>\n",
       "      <th>mean</th>\n",
       "      <td>111.832581</td>\n",
       "      <td>1.512941</td>\n",
       "      <td>56.343817</td>\n",
       "      <td>23.051817</td>\n",
       "      <td>0.375820</td>\n",
       "      <td>39.713009</td>\n",
       "      <td>-111.863853</td>\n",
       "      <td>14.999047</td>\n",
       "      <td>1.470799e+12</td>\n",
       "      <td>11.323922</td>\n",
       "      <td>29.326662</td>\n",
       "      <td>7.821777</td>\n",
       "      <td>29.277341</td>\n",
       "      <td>2016.0</td>\n",
       "    </tr>\n",
       "    <tr>\n",
       "      <th>std</th>\n",
       "      <td>81.410408</td>\n",
       "      <td>1.152668</td>\n",
       "      <td>96.677536</td>\n",
       "      <td>51.081531</td>\n",
       "      <td>1.547686</td>\n",
       "      <td>18.404840</td>\n",
       "      <td>62.943337</td>\n",
       "      <td>9.223647</td>\n",
       "      <td>7.281744e+08</td>\n",
       "      <td>6.967305</td>\n",
       "      <td>17.303331</td>\n",
       "      <td>0.382723</td>\n",
       "      <td>17.146283</td>\n",
       "      <td>0.0</td>\n",
       "    </tr>\n",
       "    <tr>\n",
       "      <th>min</th>\n",
       "      <td>0.000000</td>\n",
       "      <td>0.010000</td>\n",
       "      <td>0.000000</td>\n",
       "      <td>-3.390000</td>\n",
       "      <td>0.000000</td>\n",
       "      <td>-59.611900</td>\n",
       "      <td>-179.978000</td>\n",
       "      <td>1.000000</td>\n",
       "      <td>1.469593e+12</td>\n",
       "      <td>0.000000</td>\n",
       "      <td>0.000000</td>\n",
       "      <td>7.000000</td>\n",
       "      <td>0.000000</td>\n",
       "      <td>2016.0</td>\n",
       "    </tr>\n",
       "    <tr>\n",
       "      <th>25%</th>\n",
       "      <td>57.000000</td>\n",
       "      <td>0.740000</td>\n",
       "      <td>8.000000</td>\n",
       "      <td>3.800000</td>\n",
       "      <td>0.006667</td>\n",
       "      <td>34.051542</td>\n",
       "      <td>-146.522150</td>\n",
       "      <td>7.000000</td>\n",
       "      <td>1.470182e+12</td>\n",
       "      <td>5.000000</td>\n",
       "      <td>14.000000</td>\n",
       "      <td>8.000000</td>\n",
       "      <td>15.000000</td>\n",
       "      <td>2016.0</td>\n",
       "    </tr>\n",
       "    <tr>\n",
       "      <th>50%</th>\n",
       "      <td>96.000000</td>\n",
       "      <td>1.200000</td>\n",
       "      <td>22.000000</td>\n",
       "      <td>8.900000</td>\n",
       "      <td>0.051300</td>\n",
       "      <td>38.272100</td>\n",
       "      <td>-119.737350</td>\n",
       "      <td>14.000000</td>\n",
       "      <td>1.470752e+12</td>\n",
       "      <td>11.000000</td>\n",
       "      <td>29.000000</td>\n",
       "      <td>8.000000</td>\n",
       "      <td>29.000000</td>\n",
       "      <td>2016.0</td>\n",
       "    </tr>\n",
       "    <tr>\n",
       "      <th>75%</th>\n",
       "      <td>156.000000</td>\n",
       "      <td>1.880000</td>\n",
       "      <td>54.000000</td>\n",
       "      <td>15.800000</td>\n",
       "      <td>0.167650</td>\n",
       "      <td>51.808350</td>\n",
       "      <td>-116.717500</td>\n",
       "      <td>23.000000</td>\n",
       "      <td>1.471398e+12</td>\n",
       "      <td>17.000000</td>\n",
       "      <td>44.000000</td>\n",
       "      <td>8.000000</td>\n",
       "      <td>44.000000</td>\n",
       "      <td>2016.0</td>\n",
       "    </tr>\n",
       "    <tr>\n",
       "      <th>max</th>\n",
       "      <td>358.000000</td>\n",
       "      <td>7.700000</td>\n",
       "      <td>2674.000000</td>\n",
       "      <td>622.130000</td>\n",
       "      <td>40.547000</td>\n",
       "      <td>84.029100</td>\n",
       "      <td>179.959400</td>\n",
       "      <td>31.000000</td>\n",
       "      <td>1.472184e+12</td>\n",
       "      <td>23.000000</td>\n",
       "      <td>59.000000</td>\n",
       "      <td>8.000000</td>\n",
       "      <td>59.000000</td>\n",
       "      <td>2016.0</td>\n",
       "    </tr>\n",
       "  </tbody>\n",
       "</table>\n",
       "</div>"
      ],
      "text/plain": [
       "        impact.gap  impact.magnitude  impact.significance  location.depth  \\\n",
       "count  8394.000000       8394.000000          8394.000000     8394.000000   \n",
       "mean    111.832581          1.512941            56.343817       23.051817   \n",
       "std      81.410408          1.152668            96.677536       51.081531   \n",
       "min       0.000000          0.010000             0.000000       -3.390000   \n",
       "25%      57.000000          0.740000             8.000000        3.800000   \n",
       "50%      96.000000          1.200000            22.000000        8.900000   \n",
       "75%     156.000000          1.880000            54.000000       15.800000   \n",
       "max     358.000000          7.700000          2674.000000      622.130000   \n",
       "\n",
       "       location.distance  location.latitude  location.longitude     time.day  \\\n",
       "count        8394.000000        8394.000000         8394.000000  8394.000000   \n",
       "mean            0.375820          39.713009         -111.863853    14.999047   \n",
       "std             1.547686          18.404840           62.943337     9.223647   \n",
       "min             0.000000         -59.611900         -179.978000     1.000000   \n",
       "25%             0.006667          34.051542         -146.522150     7.000000   \n",
       "50%             0.051300          38.272100         -119.737350    14.000000   \n",
       "75%             0.167650          51.808350         -116.717500    23.000000   \n",
       "max            40.547000          84.029100          179.959400    31.000000   \n",
       "\n",
       "         time.epoch    time.hour  time.minute   time.month  time.second  \\\n",
       "count  8.394000e+03  8394.000000  8394.000000  8394.000000  8394.000000   \n",
       "mean   1.470799e+12    11.323922    29.326662     7.821777    29.277341   \n",
       "std    7.281744e+08     6.967305    17.303331     0.382723    17.146283   \n",
       "min    1.469593e+12     0.000000     0.000000     7.000000     0.000000   \n",
       "25%    1.470182e+12     5.000000    14.000000     8.000000    15.000000   \n",
       "50%    1.470752e+12    11.000000    29.000000     8.000000    29.000000   \n",
       "75%    1.471398e+12    17.000000    44.000000     8.000000    44.000000   \n",
       "max    1.472184e+12    23.000000    59.000000     8.000000    59.000000   \n",
       "\n",
       "       time.year  \n",
       "count     8394.0  \n",
       "mean      2016.0  \n",
       "std          0.0  \n",
       "min       2016.0  \n",
       "25%       2016.0  \n",
       "50%       2016.0  \n",
       "75%       2016.0  \n",
       "max       2016.0  "
      ]
     },
     "execution_count": 347,
     "metadata": {},
     "output_type": "execute_result"
    }
   ],
   "source": [
    "df.describe()"
   ]
  },
  {
   "cell_type": "code",
   "execution_count": 348,
   "id": "7ebc3cd2",
   "metadata": {},
   "outputs": [],
   "source": [
    "df['time.full'] = pd.to_datetime(df['time.full'])"
   ]
  },
  {
   "cell_type": "code",
   "execution_count": 349,
   "id": "fba1b651",
   "metadata": {},
   "outputs": [
    {
     "data": {
      "text/html": [
       "<div>\n",
       "<style scoped>\n",
       "    .dataframe tbody tr th:only-of-type {\n",
       "        vertical-align: middle;\n",
       "    }\n",
       "\n",
       "    .dataframe tbody tr th {\n",
       "        vertical-align: top;\n",
       "    }\n",
       "\n",
       "    .dataframe thead th {\n",
       "        text-align: right;\n",
       "    }\n",
       "</style>\n",
       "<table border=\"1\" class=\"dataframe\">\n",
       "  <thead>\n",
       "    <tr style=\"text-align: right;\">\n",
       "      <th></th>\n",
       "      <th>id</th>\n",
       "      <th>impact.gap</th>\n",
       "      <th>impact.magnitude</th>\n",
       "      <th>impact.significance</th>\n",
       "      <th>location.depth</th>\n",
       "      <th>location.distance</th>\n",
       "      <th>location.full</th>\n",
       "      <th>location.latitude</th>\n",
       "      <th>location.longitude</th>\n",
       "      <th>location.name</th>\n",
       "      <th>time.day</th>\n",
       "      <th>time.epoch</th>\n",
       "      <th>time.full</th>\n",
       "      <th>time.hour</th>\n",
       "      <th>time.minute</th>\n",
       "      <th>time.month</th>\n",
       "      <th>time.second</th>\n",
       "      <th>time.year</th>\n",
       "    </tr>\n",
       "  </thead>\n",
       "  <tbody>\n",
       "    <tr>\n",
       "      <th>0</th>\n",
       "      <td>nc72666881</td>\n",
       "      <td>122.00</td>\n",
       "      <td>1.43</td>\n",
       "      <td>31</td>\n",
       "      <td>15.12</td>\n",
       "      <td>0.10340</td>\n",
       "      <td>13km E of Livermore, California</td>\n",
       "      <td>37.672333</td>\n",
       "      <td>-121.619000</td>\n",
       "      <td>California</td>\n",
       "      <td>27</td>\n",
       "      <td>1469593183550</td>\n",
       "      <td>2016-07-27 00:19:43</td>\n",
       "      <td>0</td>\n",
       "      <td>19</td>\n",
       "      <td>7</td>\n",
       "      <td>43</td>\n",
       "      <td>2016</td>\n",
       "    </tr>\n",
       "    <tr>\n",
       "      <th>1</th>\n",
       "      <td>us20006i0y</td>\n",
       "      <td>30.00</td>\n",
       "      <td>4.90</td>\n",
       "      <td>371</td>\n",
       "      <td>97.07</td>\n",
       "      <td>1.43900</td>\n",
       "      <td>58km WNW of Pakokku, Burma</td>\n",
       "      <td>21.514600</td>\n",
       "      <td>94.572100</td>\n",
       "      <td>Burma</td>\n",
       "      <td>27</td>\n",
       "      <td>1469593228220</td>\n",
       "      <td>2016-07-27 00:20:28</td>\n",
       "      <td>0</td>\n",
       "      <td>20</td>\n",
       "      <td>7</td>\n",
       "      <td>28</td>\n",
       "      <td>2016</td>\n",
       "    </tr>\n",
       "    <tr>\n",
       "      <th>2</th>\n",
       "      <td>nc72666891</td>\n",
       "      <td>249.00</td>\n",
       "      <td>0.06</td>\n",
       "      <td>0</td>\n",
       "      <td>4.39</td>\n",
       "      <td>0.02743</td>\n",
       "      <td>12km SE of Mammoth Lakes, California</td>\n",
       "      <td>37.576500</td>\n",
       "      <td>-118.859167</td>\n",
       "      <td>California</td>\n",
       "      <td>27</td>\n",
       "      <td>1469593897150</td>\n",
       "      <td>2016-07-27 00:31:37</td>\n",
       "      <td>0</td>\n",
       "      <td>31</td>\n",
       "      <td>7</td>\n",
       "      <td>37</td>\n",
       "      <td>2016</td>\n",
       "    </tr>\n",
       "    <tr>\n",
       "      <th>3</th>\n",
       "      <td>nc72666896</td>\n",
       "      <td>122.00</td>\n",
       "      <td>0.40</td>\n",
       "      <td>2</td>\n",
       "      <td>1.09</td>\n",
       "      <td>0.02699</td>\n",
       "      <td>6km SSW of Mammoth Lakes, California</td>\n",
       "      <td>37.595833</td>\n",
       "      <td>-118.994833</td>\n",
       "      <td>California</td>\n",
       "      <td>27</td>\n",
       "      <td>1469594144150</td>\n",
       "      <td>2016-07-27 00:35:44</td>\n",
       "      <td>0</td>\n",
       "      <td>35</td>\n",
       "      <td>7</td>\n",
       "      <td>44</td>\n",
       "      <td>2016</td>\n",
       "    </tr>\n",
       "    <tr>\n",
       "      <th>4</th>\n",
       "      <td>nn00553447</td>\n",
       "      <td>113.61</td>\n",
       "      <td>0.30</td>\n",
       "      <td>1</td>\n",
       "      <td>7.60</td>\n",
       "      <td>0.06300</td>\n",
       "      <td>16km SSE of Mogul, Nevada</td>\n",
       "      <td>39.377500</td>\n",
       "      <td>-119.845000</td>\n",
       "      <td>Nevada</td>\n",
       "      <td>27</td>\n",
       "      <td>1469594519667</td>\n",
       "      <td>2016-07-27 00:41:59</td>\n",
       "      <td>0</td>\n",
       "      <td>41</td>\n",
       "      <td>7</td>\n",
       "      <td>59</td>\n",
       "      <td>2016</td>\n",
       "    </tr>\n",
       "  </tbody>\n",
       "</table>\n",
       "</div>"
      ],
      "text/plain": [
       "           id  impact.gap  impact.magnitude  impact.significance  \\\n",
       "0  nc72666881      122.00              1.43                   31   \n",
       "1  us20006i0y       30.00              4.90                  371   \n",
       "2  nc72666891      249.00              0.06                    0   \n",
       "3  nc72666896      122.00              0.40                    2   \n",
       "4  nn00553447      113.61              0.30                    1   \n",
       "\n",
       "   location.depth  location.distance                         location.full  \\\n",
       "0           15.12            0.10340       13km E of Livermore, California   \n",
       "1           97.07            1.43900            58km WNW of Pakokku, Burma   \n",
       "2            4.39            0.02743  12km SE of Mammoth Lakes, California   \n",
       "3            1.09            0.02699  6km SSW of Mammoth Lakes, California   \n",
       "4            7.60            0.06300             16km SSE of Mogul, Nevada   \n",
       "\n",
       "   location.latitude  location.longitude location.name  time.day  \\\n",
       "0          37.672333         -121.619000    California        27   \n",
       "1          21.514600           94.572100         Burma        27   \n",
       "2          37.576500         -118.859167    California        27   \n",
       "3          37.595833         -118.994833    California        27   \n",
       "4          39.377500         -119.845000        Nevada        27   \n",
       "\n",
       "      time.epoch           time.full  time.hour  time.minute  time.month  \\\n",
       "0  1469593183550 2016-07-27 00:19:43          0           19           7   \n",
       "1  1469593228220 2016-07-27 00:20:28          0           20           7   \n",
       "2  1469593897150 2016-07-27 00:31:37          0           31           7   \n",
       "3  1469594144150 2016-07-27 00:35:44          0           35           7   \n",
       "4  1469594519667 2016-07-27 00:41:59          0           41           7   \n",
       "\n",
       "   time.second  time.year  \n",
       "0           43       2016  \n",
       "1           28       2016  \n",
       "2           37       2016  \n",
       "3           44       2016  \n",
       "4           59       2016  "
      ]
     },
     "execution_count": 349,
     "metadata": {},
     "output_type": "execute_result"
    }
   ],
   "source": [
    "df.head()"
   ]
  },
  {
   "cell_type": "code",
   "execution_count": 350,
   "id": "038bbec9",
   "metadata": {},
   "outputs": [],
   "source": [
    "dataset=df[['impact.magnitude','location.latitude','location.longitude']]"
   ]
  },
  {
   "cell_type": "code",
   "execution_count": 351,
   "id": "6520af37",
   "metadata": {},
   "outputs": [],
   "source": [
    "dataset.rename(columns={'impact.magnitude':'magnitude','location.latitude': 'latitude', 'location.longitude': 'longitude'}, inplace=True)"
   ]
  },
  {
   "cell_type": "code",
   "execution_count": 352,
   "id": "60e55ac5",
   "metadata": {},
   "outputs": [
    {
     "data": {
      "text/html": [
       "<div>\n",
       "<style scoped>\n",
       "    .dataframe tbody tr th:only-of-type {\n",
       "        vertical-align: middle;\n",
       "    }\n",
       "\n",
       "    .dataframe tbody tr th {\n",
       "        vertical-align: top;\n",
       "    }\n",
       "\n",
       "    .dataframe thead th {\n",
       "        text-align: right;\n",
       "    }\n",
       "</style>\n",
       "<table border=\"1\" class=\"dataframe\">\n",
       "  <thead>\n",
       "    <tr style=\"text-align: right;\">\n",
       "      <th></th>\n",
       "      <th>magnitude</th>\n",
       "      <th>latitude</th>\n",
       "      <th>longitude</th>\n",
       "    </tr>\n",
       "  </thead>\n",
       "  <tbody>\n",
       "    <tr>\n",
       "      <th>count</th>\n",
       "      <td>8394.000000</td>\n",
       "      <td>8394.000000</td>\n",
       "      <td>8394.000000</td>\n",
       "    </tr>\n",
       "    <tr>\n",
       "      <th>mean</th>\n",
       "      <td>1.512941</td>\n",
       "      <td>39.713009</td>\n",
       "      <td>-111.863853</td>\n",
       "    </tr>\n",
       "    <tr>\n",
       "      <th>std</th>\n",
       "      <td>1.152668</td>\n",
       "      <td>18.404840</td>\n",
       "      <td>62.943337</td>\n",
       "    </tr>\n",
       "    <tr>\n",
       "      <th>min</th>\n",
       "      <td>0.010000</td>\n",
       "      <td>-59.611900</td>\n",
       "      <td>-179.978000</td>\n",
       "    </tr>\n",
       "    <tr>\n",
       "      <th>25%</th>\n",
       "      <td>0.740000</td>\n",
       "      <td>34.051542</td>\n",
       "      <td>-146.522150</td>\n",
       "    </tr>\n",
       "    <tr>\n",
       "      <th>50%</th>\n",
       "      <td>1.200000</td>\n",
       "      <td>38.272100</td>\n",
       "      <td>-119.737350</td>\n",
       "    </tr>\n",
       "    <tr>\n",
       "      <th>75%</th>\n",
       "      <td>1.880000</td>\n",
       "      <td>51.808350</td>\n",
       "      <td>-116.717500</td>\n",
       "    </tr>\n",
       "    <tr>\n",
       "      <th>max</th>\n",
       "      <td>7.700000</td>\n",
       "      <td>84.029100</td>\n",
       "      <td>179.959400</td>\n",
       "    </tr>\n",
       "  </tbody>\n",
       "</table>\n",
       "</div>"
      ],
      "text/plain": [
       "         magnitude     latitude    longitude\n",
       "count  8394.000000  8394.000000  8394.000000\n",
       "mean      1.512941    39.713009  -111.863853\n",
       "std       1.152668    18.404840    62.943337\n",
       "min       0.010000   -59.611900  -179.978000\n",
       "25%       0.740000    34.051542  -146.522150\n",
       "50%       1.200000    38.272100  -119.737350\n",
       "75%       1.880000    51.808350  -116.717500\n",
       "max       7.700000    84.029100   179.959400"
      ]
     },
     "execution_count": 352,
     "metadata": {},
     "output_type": "execute_result"
    }
   ],
   "source": [
    "dataset.describe()"
   ]
  },
  {
   "cell_type": "code",
   "execution_count": 353,
   "id": "47ac908c",
   "metadata": {},
   "outputs": [],
   "source": [
    "from sklearn import metrics\n",
    "from sklearn.model_selection import train_test_split \n",
    "from sklearn.linear_model import LinearRegression\n",
    "from sklearn.neighbors import KNeighborsRegressor\n",
    "from sklearn.tree import DecisionTreeRegressor\n",
    "from sklearn.ensemble import RandomForestRegressor"
   ]
  },
  {
   "cell_type": "code",
   "execution_count": 354,
   "id": "9d5e9af7",
   "metadata": {},
   "outputs": [],
   "source": [
    "x=dataset[['latitude','longitude']]\n",
    "y=dataset['magnitude']"
   ]
  },
  {
   "cell_type": "code",
   "execution_count": 355,
   "id": "39282664",
   "metadata": {},
   "outputs": [
    {
     "data": {
      "text/html": [
       "<div>\n",
       "<style scoped>\n",
       "    .dataframe tbody tr th:only-of-type {\n",
       "        vertical-align: middle;\n",
       "    }\n",
       "\n",
       "    .dataframe tbody tr th {\n",
       "        vertical-align: top;\n",
       "    }\n",
       "\n",
       "    .dataframe thead th {\n",
       "        text-align: right;\n",
       "    }\n",
       "</style>\n",
       "<table border=\"1\" class=\"dataframe\">\n",
       "  <thead>\n",
       "    <tr style=\"text-align: right;\">\n",
       "      <th></th>\n",
       "      <th>latitude</th>\n",
       "      <th>longitude</th>\n",
       "    </tr>\n",
       "  </thead>\n",
       "  <tbody>\n",
       "    <tr>\n",
       "      <th>0</th>\n",
       "      <td>37.672333</td>\n",
       "      <td>-121.619000</td>\n",
       "    </tr>\n",
       "    <tr>\n",
       "      <th>1</th>\n",
       "      <td>21.514600</td>\n",
       "      <td>94.572100</td>\n",
       "    </tr>\n",
       "    <tr>\n",
       "      <th>2</th>\n",
       "      <td>37.576500</td>\n",
       "      <td>-118.859167</td>\n",
       "    </tr>\n",
       "    <tr>\n",
       "      <th>3</th>\n",
       "      <td>37.595833</td>\n",
       "      <td>-118.994833</td>\n",
       "    </tr>\n",
       "    <tr>\n",
       "      <th>4</th>\n",
       "      <td>39.377500</td>\n",
       "      <td>-119.845000</td>\n",
       "    </tr>\n",
       "  </tbody>\n",
       "</table>\n",
       "</div>"
      ],
      "text/plain": [
       "    latitude   longitude\n",
       "0  37.672333 -121.619000\n",
       "1  21.514600   94.572100\n",
       "2  37.576500 -118.859167\n",
       "3  37.595833 -118.994833\n",
       "4  39.377500 -119.845000"
      ]
     },
     "execution_count": 355,
     "metadata": {},
     "output_type": "execute_result"
    }
   ],
   "source": [
    "x.head()"
   ]
  },
  {
   "cell_type": "code",
   "execution_count": 356,
   "id": "17db8e6a",
   "metadata": {},
   "outputs": [
    {
     "data": {
      "text/plain": [
       "0    1.43\n",
       "1    4.90\n",
       "2    0.06\n",
       "3    0.40\n",
       "4    0.30\n",
       "Name: magnitude, dtype: float64"
      ]
     },
     "execution_count": 356,
     "metadata": {},
     "output_type": "execute_result"
    }
   ],
   "source": [
    "y.head()"
   ]
  },
  {
   "cell_type": "markdown",
   "id": "5e9d27a4",
   "metadata": {},
   "source": [
    "\n",
    "# KNN REGRESSOR"
   ]
  },
  {
   "cell_type": "code",
   "execution_count": 357,
   "id": "380fca8e",
   "metadata": {},
   "outputs": [],
   "source": [
    "x_train, x_test, y_train, y_test = train_test_split(x, y, test_size=0.20, random_state=141)"
   ]
  },
  {
   "cell_type": "code",
   "execution_count": 358,
   "id": "851c3783",
   "metadata": {},
   "outputs": [
    {
     "data": {
      "text/plain": [
       "<matplotlib.collections.PathCollection at 0x7f91c27f6e90>"
      ]
     },
     "execution_count": 358,
     "metadata": {},
     "output_type": "execute_result"
    },
    {
     "data": {
      "image/png": "[encoded data removed]",
      "text/plain": [
       "<Figure size 640x480 with 1 Axes>"
      ]
     },
     "metadata": {},
     "output_type": "display_data"
    }
   ],
   "source": [
    "max_accuracy_Knn = 0\n",
    "\n",
    "\n",
    "for x in range(1,200):\n",
    "    n=KNeighborsRegressor(n_neighbors=x) \n",
    "    modelKnn=n.fit(x_train,y_train) \n",
    "    predKnn=modelKnn.predict(x_test)\n",
    "    current_accuracy_Knn = round(metrics.r2_score(y_test, predKnn),4)*100\n",
    "    if(current_accuracy_Knn>max_accuracy_Knn):\n",
    "        max_accuracy_Knn = current_accuracy_Knn\n",
    "        best_x_Knn = x\n",
    "\n",
    "\n",
    "n=KNeighborsRegressor(n_neighbors=best_x_Knn) \n",
    "modelKnn=n.fit(x_train,y_train) \n",
    "predKnn=modelKnn.predict(x_test)\n",
    "plt.scatter(y_test,predKnn)"
   ]
  },
  {
   "cell_type": "code",
   "execution_count": 359,
   "id": "492a3749",
   "metadata": {},
   "outputs": [
    {
     "name": "stdout",
     "output_type": "stream",
     "text": [
      "MAE: 0.3588939845145921\n",
      "MSE: 0.2326475407980941\n",
      "RMSE: 0.4823355064662917\n",
      "R Squared error: 0.8245051204526253\n",
      "Accuracy: 82.45 %\n"
     ]
    }
   ],
   "source": [
    "#Metrics for Regressor\n",
    "print('MAE:', metrics.mean_absolute_error(y_test,predKnn)) \n",
    "print('MSE:', metrics.mean_squared_error(y_test,predKnn)) \n",
    "print('RMSE:', np.sqrt(metrics.mean_squared_error(y_test, predKnn))) \n",
    "print('R Squared error:',metrics.r2_score(y_test,predKnn)) \n",
    "print('Accuracy:',round(metrics.r2_score(y_test,predKnn),4)*100,\"%\")\n"
   ]
  },
  {
   "cell_type": "markdown",
   "id": "b2f5df9e",
   "metadata": {},
   "source": [
    "# Decision Tree Regressor"
   ]
  },
  {
   "cell_type": "code",
   "execution_count": 360,
   "id": "80bdc8d3",
   "metadata": {},
   "outputs": [
    {
     "data": {
      "text/plain": [
       "<matplotlib.collections.PathCollection at 0x7f91c253cd30>"
      ]
     },
     "execution_count": 360,
     "metadata": {},
     "output_type": "execute_result"
    },
    {
     "data": {
      "image/png": "[encoded data removed]",
      "text/plain": [
       "<Figure size 640x480 with 1 Axes>"
      ]
     },
     "metadata": {},
     "output_type": "display_data"
    }
   ],
   "source": [
    "max_accuracy_Dtr = 0\n",
    "\n",
    "\n",
    "for x in range(200):\n",
    "    modDtr = DecisionTreeRegressor(random_state=x)\n",
    "    modDtr.fit(x_train,y_train)\n",
    "    predDtr = modDtr.predict(x_test)\n",
    "    current_accuracy_Dtr = round(metrics.r2_score(y_test, predDtr),4)*100\n",
    "    if(current_accuracy_Dtr>max_accuracy_Dtr):\n",
    "        max_accuracy_Dtr = current_accuracy_Dtr\n",
    "        best_x_Dtr = x\n",
    "\n",
    "# print(best_x_Dtr)\n",
    "# print(max_accuracy_Dtr)\n",
    "modDtr = DecisionTreeRegressor(random_state=best_x_Dtr)\n",
    "modDtr.fit(x_train,y_train)\n",
    "predDtr = modDtr.predict(x_test)\n",
    "plt.scatter(y_test,predDtr)\n"
   ]
  },
  {
   "cell_type": "code",
   "execution_count": 361,
   "id": "931a4115",
   "metadata": {},
   "outputs": [
    {
     "name": "stdout",
     "output_type": "stream",
     "text": [
      "MAE: 0.46252531268612274\n",
      "MSE: 0.4209406127986235\n",
      "RMSE: 0.648799362514039\n",
      "R Squared error : 0.6824685019825592\n",
      "Accuracy : 68.25 %\n"
     ]
    }
   ],
   "source": [
    "print('MAE:', metrics.mean_absolute_error(y_test, predDtr)) \n",
    "print('MSE:', metrics.mean_squared_error(y_test, predDtr)) \n",
    "print('RMSE:', np.sqrt(metrics.mean_squared_error(y_test, predDtr))) \n",
    "print('R Squared error :', metrics.r2_score(y_test, predDtr)) \n",
    "print('Accuracy :', round(metrics.r2_score(y_test, predDtr),4)*100,\"%\")"
   ]
  },
  {
   "cell_type": "markdown",
   "id": "d262a5ad",
   "metadata": {},
   "source": [
    "# Random Forest Regressor"
   ]
  },
  {
   "cell_type": "code",
   "execution_count": 362,
   "id": "05b7fba1",
   "metadata": {},
   "outputs": [
    {
     "data": {
      "text/plain": [
       "<matplotlib.collections.PathCollection at 0x7f91c2587250>"
      ]
     },
     "execution_count": 362,
     "metadata": {},
     "output_type": "execute_result"
    },
    {
     "data": {
      "image/png": "[encoded data removed]",
      "text/plain": [
       "<Figure size 640x480 with 1 Axes>"
      ]
     },
     "metadata": {},
     "output_type": "display_data"
    }
   ],
   "source": [
    "modRfr = RandomForestRegressor(random_state=22)\n",
    "modRfr.fit(x_train, y_train)\n",
    "predRfr = modRfr.predict(x_test)\n",
    "plt.scatter(y_test,predRfr)\n",
    "\n",
    "\n",
    "\n"
   ]
  },
  {
   "cell_type": "code",
   "execution_count": 363,
   "id": "2172c072",
   "metadata": {},
   "outputs": [
    {
     "name": "stdout",
     "output_type": "stream",
     "text": [
      "MAE: 0.3728550792834324\n",
      "MSE: 0.2575936795963936\n",
      "RMSE: 0.5075368751099704\n",
      "R Squared error : 0.8056873001199398\n",
      "Accuracy : 80.57 %\n"
     ]
    }
   ],
   "source": [
    "print('MAE:', metrics.mean_absolute_error(y_test, predRfr)) \n",
    "print('MSE:', metrics.mean_squared_error(y_test, predRfr)) \n",
    "print('RMSE:', np.sqrt(metrics.mean_squared_error(y_test, predRfr))) \n",
    "print('R Squared error :', metrics.r2_score(y_test, predRfr)) \n",
    "print('Accuracy :', round(metrics.r2_score(y_test, predRfr),4)*100,\"%\")"
   ]
  },
  {
   "cell_type": "code",
   "execution_count": 365,
   "id": "3034627f",
   "metadata": {},
   "outputs": [],
   "source": [
    "#Using KNN regressor as it is giving the best accuracy\n",
    "import pickle\n",
    "filename = 'earthquakeKnn_model.sav'\n",
    "pickle.dump(modelKnn, open(filename, 'wb'))"
   ]
  },
  {
   "cell_type": "code",
   "execution_count": 366,
   "id": "74e83c1a",
   "metadata": {},
   "outputs": [],
   "source": [
    "# loading the saved model\n",
    "loaded_model = pickle.load(open('earthquakeKnn_model.sav', 'rb'))"
   ]
  },
  {
   "cell_type": "code",
   "execution_count": 367,
   "id": "c4bb6c36",
   "metadata": {},
   "outputs": [],
   "source": [
    "def printFunc(predicted_magnitude):\n",
    "    classification = {\n",
    "        'Micro': (0.0, 3.0),\n",
    "        'Minor': (3.0, 4.0),\n",
    "        'Light': (4.0, 5.0),\n",
    "        'Moderate': (5.0, 6.0),\n",
    "        'Strong': (6.0, 7.0),\n",
    "        'Major': (7.0, 8.0),\n",
    "        'Great': (8.0, float('inf'))\n",
    "    }\n",
    "\n",
    "    magnitude_category = None\n",
    "\n",
    "    for category, (lower, upper) in classification.items():\n",
    "        if lower <= predicted_magnitude < upper:\n",
    "            magnitude_category = category\n",
    "            break\n",
    "\n",
    "    message = f\"Based on our analysis, the predicted magnitude for your location is {predicted_magnitude} on the Richter scale.\\n\\n\"\n",
    "    message += \"Here is the classification for earthquake magnitudes:\\n\\n\"\n",
    "    for category, (lower, upper) in classification.items():\n",
    "        message += f\"- {category}: Magnitude {lower} - {upper}\\n\"\n",
    "\n",
    "    message += f\"\\nTherefore, the predicted magnitude for your location indicates a \\\"{magnitude_category}\\\" earthquake, which can cause significant shaking of buildings and potential damage to poorly constructed structures. It's important to stay prepared and follow any safety guidelines or evacuation procedures provided by local authorities.\"\n",
    "\n",
    "    return message\n",
    "\n",
    "\n"
   ]
  },
  {
   "cell_type": "code",
   "execution_count": 368,
   "id": "0580f07b",
   "metadata": {},
   "outputs": [
    {
     "name": "stdout",
     "output_type": "stream",
     "text": [
      "Predicted Magnitude: Based on our analysis, the predicted magnitude for your location is [1.379] on the Richter scale.\n",
      "\n",
      "Here is the classification for earthquake magnitudes:\n",
      "\n",
      "- Micro: Magnitude 0.0 - 3.0\n",
      "- Minor: Magnitude 3.0 - 4.0\n",
      "- Light: Magnitude 4.0 - 5.0\n",
      "- Moderate: Magnitude 5.0 - 6.0\n",
      "- Strong: Magnitude 6.0 - 7.0\n",
      "- Major: Magnitude 7.0 - 8.0\n",
      "- Great: Magnitude 8.0 - inf\n",
      "\n",
      "Therefore, the predicted magnitude for your location indicates a \"Micro\" earthquake, which can cause significant shaking of buildings and potential damage to poorly constructed structures. It's important to stay prepared and follow any safety guidelines or evacuation procedures provided by local authorities.\n"
     ]
    }
   ],
   "source": [
    "input_data = (37.67,-121.6)\n",
    "input_data_as_numpy_array = np.asarray(input_data)\n",
    "input_data_reshaped = input_data_as_numpy_array.reshape(1,-1)\n",
    "predicted_magnitude = loaded_model.predict(input_data_reshaped)\n",
    "print(\"Predicted Magnitude:\",printFunc(predicted_magnitude))\n"
   ]
  },
  {
   "cell_type": "code",
   "execution_count": 369,
   "id": "008d6b84",
   "metadata": {},
   "outputs": [
    {
     "name": "stdout",
     "output_type": "stream",
     "text": [
      "Predicted Magnitude: Based on our analysis, the predicted magnitude for your location is [4.65] on the Richter scale.\n",
      "\n",
      "Here is the classification for earthquake magnitudes:\n",
      "\n",
      "- Micro: Magnitude 0.0 - 3.0\n",
      "- Minor: Magnitude 3.0 - 4.0\n",
      "- Light: Magnitude 4.0 - 5.0\n",
      "- Moderate: Magnitude 5.0 - 6.0\n",
      "- Strong: Magnitude 6.0 - 7.0\n",
      "- Major: Magnitude 7.0 - 8.0\n",
      "- Great: Magnitude 8.0 - inf\n",
      "\n",
      "Therefore, the predicted magnitude for your location indicates a \"Light\" earthquake, which can cause significant shaking of buildings and potential damage to poorly constructed structures. It's important to stay prepared and follow any safety guidelines or evacuation procedures provided by local authorities.\n"
     ]
    }
   ],
   "source": [
    "input_data = (-10,150)\n",
    "input_data_as_numpy_array = np.asarray(input_data)\n",
    "input_data_reshaped = input_data_as_numpy_array.reshape(1,-1)\n",
    "predicted_magnitude = loaded_model.predict(input_data_reshaped)\n",
    "print(\"Predicted Magnitude:\",printFunc(predicted_magnitude))\n"
   ]
  },
  {
   "cell_type": "code",
   "execution_count": 370,
   "id": "7a278fca",
   "metadata": {},
   "outputs": [
    {
     "name": "stdout",
     "output_type": "stream",
     "text": [
      "Predicted Magnitude: Based on our analysis, the predicted magnitude for your location is [5.1] on the Richter scale.\n",
      "\n",
      "Here is the classification for earthquake magnitudes:\n",
      "\n",
      "- Micro: Magnitude 0.0 - 3.0\n",
      "- Minor: Magnitude 3.0 - 4.0\n",
      "- Light: Magnitude 4.0 - 5.0\n",
      "- Moderate: Magnitude 5.0 - 6.0\n",
      "- Strong: Magnitude 6.0 - 7.0\n",
      "- Major: Magnitude 7.0 - 8.0\n",
      "- Great: Magnitude 8.0 - inf\n",
      "\n",
      "Therefore, the predicted magnitude for your location indicates a \"Moderate\" earthquake, which can cause significant shaking of buildings and potential damage to poorly constructed structures. It's important to stay prepared and follow any safety guidelines or evacuation procedures provided by local authorities.\n"
     ]
    }
   ],
   "source": [
    "input_data = (-23.9619,82.4789)\n",
    "input_data_as_numpy_array = np.asarray(input_data)\n",
    "input_data_reshaped = input_data_as_numpy_array.reshape(1,-1)\n",
    "predicted_magnitude = loaded_model.predict(input_data_reshaped)\n",
    "print(\"Predicted Magnitude:\",printFunc(predicted_magnitude))\n"
   ]
  },
  {
   "cell_type": "code",
   "execution_count": null,
   "id": "e1e31cbb",
   "metadata": {},
   "outputs": [],
   "source": []
  }
 ],
 "metadata": {
  "kernelspec": {
   "display_name": "Python 3 (ipykernel)",
   "language": "python",
   "name": "python3"
  },
  "language_info": {
   "codemirror_mode": {
    "name": "ipython",
    "version": 3
   },
   "file_extension": ".py",
   "mimetype": "text/x-python",
   "name": "python",
   "nbconvert_exporter": "python",
   "pygments_lexer": "ipython3",
   "version": "3.10.9"
  }
 },
 "nbformat": 4,
 "nbformat_minor": 5
}
